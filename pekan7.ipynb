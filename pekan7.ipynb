{
 "cells": [
  {
   "cell_type": "code",
   "execution_count": 6,
   "id": "4a5013e2",
   "metadata": {},
   "outputs": [
    {
     "name": "stdout",
     "output_type": "stream",
     "text": [
      "(6, 5) (2, 5) (2, 5)\n"
     ]
    }
   ],
   "source": [
    "import pandas as pd\n",
    "from sklearn.model_selection import train_test_split\n",
    "from sklearn.preprocessing import StandardScaler\n",
    "\n",
    "df = pd.read_csv(\"processed_kelulusan.csv\")\n",
    "X = df.drop(\"Lulus\", axis=1)\n",
    "y = df[\"Lulus\"]\n",
    "\n",
    "sc = StandardScaler()\n",
    "Xs = sc.fit_transform(X)\n",
    "\n",
    "X_train, X_temp, y_train, y_temp = train_test_split(\n",
    "    Xs, y, test_size=0.4, stratify=y, random_state=42)\n",
    "X_val, X_test, y_val, y_test = train_test_split(\n",
    "    X_temp, y_temp, test_size=0.5, stratify=y_temp, random_state=42)\n",
    "\n",
    "print(X_train.shape, X_val.shape, X_test.shape)"
   ]
  },
  {
   "cell_type": "code",
   "execution_count": 7,
   "id": "003eb1dd",
   "metadata": {},
   "outputs": [
    {
     "data": {
      "text/html": [
       "<pre style=\"white-space:pre;overflow-x:auto;line-height:normal;font-family:Menlo,'DejaVu Sans Mono',consolas,'Courier New',monospace\"><span style=\"font-weight: bold\">Model: \"sequential_1\"</span>\n",
       "</pre>\n"
      ],
      "text/plain": [
       "\u001b[1mModel: \"sequential_1\"\u001b[0m\n"
      ]
     },
     "metadata": {},
     "output_type": "display_data"
    },
    {
     "data": {
      "text/html": [
       "<pre style=\"white-space:pre;overflow-x:auto;line-height:normal;font-family:Menlo,'DejaVu Sans Mono',consolas,'Courier New',monospace\">┏━━━━━━━━━━━━━━━━━━━━━━━━━━━━━━━━━┳━━━━━━━━━━━━━━━━━━━━━━━━┳━━━━━━━━━━━━━━━┓\n",
       "┃<span style=\"font-weight: bold\"> Layer (type)                    </span>┃<span style=\"font-weight: bold\"> Output Shape           </span>┃<span style=\"font-weight: bold\">       Param # </span>┃\n",
       "┡━━━━━━━━━━━━━━━━━━━━━━━━━━━━━━━━━╇━━━━━━━━━━━━━━━━━━━━━━━━╇━━━━━━━━━━━━━━━┩\n",
       "│ dense_3 (<span style=\"color: #0087ff; text-decoration-color: #0087ff\">Dense</span>)                 │ (<span style=\"color: #00d7ff; text-decoration-color: #00d7ff\">None</span>, <span style=\"color: #00af00; text-decoration-color: #00af00\">32</span>)             │           <span style=\"color: #00af00; text-decoration-color: #00af00\">192</span> │\n",
       "├─────────────────────────────────┼────────────────────────┼───────────────┤\n",
       "│ dropout_1 (<span style=\"color: #0087ff; text-decoration-color: #0087ff\">Dropout</span>)             │ (<span style=\"color: #00d7ff; text-decoration-color: #00d7ff\">None</span>, <span style=\"color: #00af00; text-decoration-color: #00af00\">32</span>)             │             <span style=\"color: #00af00; text-decoration-color: #00af00\">0</span> │\n",
       "├─────────────────────────────────┼────────────────────────┼───────────────┤\n",
       "│ dense_4 (<span style=\"color: #0087ff; text-decoration-color: #0087ff\">Dense</span>)                 │ (<span style=\"color: #00d7ff; text-decoration-color: #00d7ff\">None</span>, <span style=\"color: #00af00; text-decoration-color: #00af00\">16</span>)             │           <span style=\"color: #00af00; text-decoration-color: #00af00\">528</span> │\n",
       "├─────────────────────────────────┼────────────────────────┼───────────────┤\n",
       "│ dense_5 (<span style=\"color: #0087ff; text-decoration-color: #0087ff\">Dense</span>)                 │ (<span style=\"color: #00d7ff; text-decoration-color: #00d7ff\">None</span>, <span style=\"color: #00af00; text-decoration-color: #00af00\">1</span>)              │            <span style=\"color: #00af00; text-decoration-color: #00af00\">17</span> │\n",
       "└─────────────────────────────────┴────────────────────────┴───────────────┘\n",
       "</pre>\n"
      ],
      "text/plain": [
       "┏━━━━━━━━━━━━━━━━━━━━━━━━━━━━━━━━━┳━━━━━━━━━━━━━━━━━━━━━━━━┳━━━━━━━━━━━━━━━┓\n",
       "┃\u001b[1m \u001b[0m\u001b[1mLayer (type)                   \u001b[0m\u001b[1m \u001b[0m┃\u001b[1m \u001b[0m\u001b[1mOutput Shape          \u001b[0m\u001b[1m \u001b[0m┃\u001b[1m \u001b[0m\u001b[1m      Param #\u001b[0m\u001b[1m \u001b[0m┃\n",
       "┡━━━━━━━━━━━━━━━━━━━━━━━━━━━━━━━━━╇━━━━━━━━━━━━━━━━━━━━━━━━╇━━━━━━━━━━━━━━━┩\n",
       "│ dense_3 (\u001b[38;5;33mDense\u001b[0m)                 │ (\u001b[38;5;45mNone\u001b[0m, \u001b[38;5;34m32\u001b[0m)             │           \u001b[38;5;34m192\u001b[0m │\n",
       "├─────────────────────────────────┼────────────────────────┼───────────────┤\n",
       "│ dropout_1 (\u001b[38;5;33mDropout\u001b[0m)             │ (\u001b[38;5;45mNone\u001b[0m, \u001b[38;5;34m32\u001b[0m)             │             \u001b[38;5;34m0\u001b[0m │\n",
       "├─────────────────────────────────┼────────────────────────┼───────────────┤\n",
       "│ dense_4 (\u001b[38;5;33mDense\u001b[0m)                 │ (\u001b[38;5;45mNone\u001b[0m, \u001b[38;5;34m16\u001b[0m)             │           \u001b[38;5;34m528\u001b[0m │\n",
       "├─────────────────────────────────┼────────────────────────┼───────────────┤\n",
       "│ dense_5 (\u001b[38;5;33mDense\u001b[0m)                 │ (\u001b[38;5;45mNone\u001b[0m, \u001b[38;5;34m1\u001b[0m)              │            \u001b[38;5;34m17\u001b[0m │\n",
       "└─────────────────────────────────┴────────────────────────┴───────────────┘\n"
      ]
     },
     "metadata": {},
     "output_type": "display_data"
    },
    {
     "data": {
      "text/html": [
       "<pre style=\"white-space:pre;overflow-x:auto;line-height:normal;font-family:Menlo,'DejaVu Sans Mono',consolas,'Courier New',monospace\"><span style=\"font-weight: bold\"> Total params: </span><span style=\"color: #00af00; text-decoration-color: #00af00\">737</span> (2.88 KB)\n",
       "</pre>\n"
      ],
      "text/plain": [
       "\u001b[1m Total params: \u001b[0m\u001b[38;5;34m737\u001b[0m (2.88 KB)\n"
      ]
     },
     "metadata": {},
     "output_type": "display_data"
    },
    {
     "data": {
      "text/html": [
       "<pre style=\"white-space:pre;overflow-x:auto;line-height:normal;font-family:Menlo,'DejaVu Sans Mono',consolas,'Courier New',monospace\"><span style=\"font-weight: bold\"> Trainable params: </span><span style=\"color: #00af00; text-decoration-color: #00af00\">737</span> (2.88 KB)\n",
       "</pre>\n"
      ],
      "text/plain": [
       "\u001b[1m Trainable params: \u001b[0m\u001b[38;5;34m737\u001b[0m (2.88 KB)\n"
      ]
     },
     "metadata": {},
     "output_type": "display_data"
    },
    {
     "data": {
      "text/html": [
       "<pre style=\"white-space:pre;overflow-x:auto;line-height:normal;font-family:Menlo,'DejaVu Sans Mono',consolas,'Courier New',monospace\"><span style=\"font-weight: bold\"> Non-trainable params: </span><span style=\"color: #00af00; text-decoration-color: #00af00\">0</span> (0.00 B)\n",
       "</pre>\n"
      ],
      "text/plain": [
       "\u001b[1m Non-trainable params: \u001b[0m\u001b[38;5;34m0\u001b[0m (0.00 B)\n"
      ]
     },
     "metadata": {},
     "output_type": "display_data"
    }
   ],
   "source": [
    "import tensorflow as tf\n",
    "from tensorflow import keras\n",
    "from tensorflow.keras import layers\n",
    "\n",
    "model = keras.Sequential([\n",
    "    layers.Input(shape=(X_train.shape[1],)),\n",
    "    layers.Dense(32, activation=\"relu\"),\n",
    "    layers.Dropout(0.3),\n",
    "    layers.Dense(16, activation=\"relu\"),\n",
    "    layers.Dense(1, activation=\"sigmoid\")  # klasifikasi biner\n",
    "])\n",
    "\n",
    "model.compile(optimizer=keras.optimizers.Adam(1e-3),\n",
    "              loss=\"binary_crossentropy\",\n",
    "              metrics=[\"accuracy\",\"AUC\"])\n",
    "model.summary()"
   ]
  },
  {
   "cell_type": "code",
   "execution_count": 8,
   "id": "672464e1",
   "metadata": {},
   "outputs": [
    {
     "name": "stdout",
     "output_type": "stream",
     "text": [
      "Epoch 1/100\n",
      "\u001b[1m1/1\u001b[0m \u001b[32m━━━━━━━━━━━━━━━━━━━━\u001b[0m\u001b[37m\u001b[0m \u001b[1m2s\u001b[0m 2s/step - AUC: 0.0000e+00 - accuracy: 0.5000 - loss: 0.8224 - val_AUC: 0.0000e+00 - val_accuracy: 0.0000e+00 - val_loss: 0.8202\n",
      "Epoch 2/100\n",
      "\u001b[1m1/1\u001b[0m \u001b[32m━━━━━━━━━━━━━━━━━━━━\u001b[0m\u001b[37m\u001b[0m \u001b[1m0s\u001b[0m 103ms/step - AUC: 0.0000e+00 - accuracy: 0.1667 - loss: 0.8421 - val_AUC: 0.0000e+00 - val_accuracy: 0.0000e+00 - val_loss: 0.8138\n",
      "Epoch 3/100\n",
      "\u001b[1m1/1\u001b[0m \u001b[32m━━━━━━━━━━━━━━━━━━━━\u001b[0m\u001b[37m\u001b[0m \u001b[1m0s\u001b[0m 103ms/step - AUC: 0.3333 - accuracy: 0.3333 - loss: 0.7602 - val_AUC: 0.0000e+00 - val_accuracy: 0.0000e+00 - val_loss: 0.8083\n",
      "Epoch 4/100\n",
      "\u001b[1m1/1\u001b[0m \u001b[32m━━━━━━━━━━━━━━━━━━━━\u001b[0m\u001b[37m\u001b[0m \u001b[1m0s\u001b[0m 103ms/step - AUC: 0.0000e+00 - accuracy: 0.1667 - loss: 0.8792 - val_AUC: 0.0000e+00 - val_accuracy: 0.0000e+00 - val_loss: 0.8022\n",
      "Epoch 5/100\n",
      "\u001b[1m1/1\u001b[0m \u001b[32m━━━━━━━━━━━━━━━━━━━━\u001b[0m\u001b[37m\u001b[0m \u001b[1m0s\u001b[0m 102ms/step - AUC: 0.0000e+00 - accuracy: 0.1667 - loss: 0.8548 - val_AUC: 0.0000e+00 - val_accuracy: 0.0000e+00 - val_loss: 0.7954\n",
      "Epoch 6/100\n",
      "\u001b[1m1/1\u001b[0m \u001b[32m━━━━━━━━━━━━━━━━━━━━\u001b[0m\u001b[37m\u001b[0m \u001b[1m0s\u001b[0m 103ms/step - AUC: 0.0000e+00 - accuracy: 0.3333 - loss: 0.8488 - val_AUC: 0.0000e+00 - val_accuracy: 0.0000e+00 - val_loss: 0.7884\n",
      "Epoch 7/100\n",
      "\u001b[1m1/1\u001b[0m \u001b[32m━━━━━━━━━━━━━━━━━━━━\u001b[0m\u001b[37m\u001b[0m \u001b[1m0s\u001b[0m 102ms/step - AUC: 0.0000e+00 - accuracy: 0.1667 - loss: 0.8379 - val_AUC: 0.0000e+00 - val_accuracy: 0.0000e+00 - val_loss: 0.7816\n",
      "Epoch 8/100\n",
      "\u001b[1m1/1\u001b[0m \u001b[32m━━━━━━━━━━━━━━━━━━━━\u001b[0m\u001b[37m\u001b[0m \u001b[1m0s\u001b[0m 104ms/step - AUC: 0.1111 - accuracy: 0.5000 - loss: 0.7979 - val_AUC: 0.0000e+00 - val_accuracy: 0.5000 - val_loss: 0.7751\n",
      "Epoch 9/100\n",
      "\u001b[1m1/1\u001b[0m \u001b[32m━━━━━━━━━━━━━━━━━━━━\u001b[0m\u001b[37m\u001b[0m \u001b[1m0s\u001b[0m 106ms/step - AUC: 0.0000e+00 - accuracy: 0.3333 - loss: 0.7704 - val_AUC: 0.0000e+00 - val_accuracy: 0.5000 - val_loss: 0.7677\n",
      "Epoch 10/100\n",
      "\u001b[1m1/1\u001b[0m \u001b[32m━━━━━━━━━━━━━━━━━━━━\u001b[0m\u001b[37m\u001b[0m \u001b[1m0s\u001b[0m 101ms/step - AUC: 0.0556 - accuracy: 0.1667 - loss: 0.7990 - val_AUC: 0.0000e+00 - val_accuracy: 0.5000 - val_loss: 0.7606\n",
      "Epoch 11/100\n",
      "\u001b[1m1/1\u001b[0m \u001b[32m━━━━━━━━━━━━━━━━━━━━\u001b[0m\u001b[37m\u001b[0m \u001b[1m0s\u001b[0m 104ms/step - AUC: 0.4444 - accuracy: 0.5000 - loss: 0.7239 - val_AUC: 0.0000e+00 - val_accuracy: 0.5000 - val_loss: 0.7544\n",
      "Epoch 12/100\n",
      "\u001b[1m1/1\u001b[0m \u001b[32m━━━━━━━━━━━━━━━━━━━━\u001b[0m\u001b[37m\u001b[0m \u001b[1m0s\u001b[0m 106ms/step - AUC: 0.0000e+00 - accuracy: 0.3333 - loss: 0.7779 - val_AUC: 0.0000e+00 - val_accuracy: 0.5000 - val_loss: 0.7484\n",
      "Epoch 13/100\n",
      "\u001b[1m1/1\u001b[0m \u001b[32m━━━━━━━━━━━━━━━━━━━━\u001b[0m\u001b[37m\u001b[0m \u001b[1m0s\u001b[0m 101ms/step - AUC: 0.2222 - accuracy: 0.5000 - loss: 0.8017 - val_AUC: 0.0000e+00 - val_accuracy: 0.5000 - val_loss: 0.7425\n",
      "Epoch 14/100\n",
      "\u001b[1m1/1\u001b[0m \u001b[32m━━━━━━━━━━━━━━━━━━━━\u001b[0m\u001b[37m\u001b[0m \u001b[1m0s\u001b[0m 103ms/step - AUC: 0.0556 - accuracy: 0.3333 - loss: 0.7270 - val_AUC: 0.0000e+00 - val_accuracy: 0.5000 - val_loss: 0.7368\n",
      "Epoch 15/100\n",
      "\u001b[1m1/1\u001b[0m \u001b[32m━━━━━━━━━━━━━━━━━━━━\u001b[0m\u001b[37m\u001b[0m \u001b[1m0s\u001b[0m 101ms/step - AUC: 0.0000e+00 - accuracy: 0.3333 - loss: 0.7974 - val_AUC: 0.0000e+00 - val_accuracy: 0.5000 - val_loss: 0.7312\n",
      "Epoch 16/100\n",
      "\u001b[1m1/1\u001b[0m \u001b[32m━━━━━━━━━━━━━━━━━━━━\u001b[0m\u001b[37m\u001b[0m \u001b[1m0s\u001b[0m 105ms/step - AUC: 0.3333 - accuracy: 0.6667 - loss: 0.7198 - val_AUC: 0.0000e+00 - val_accuracy: 0.5000 - val_loss: 0.7256\n",
      "Epoch 17/100\n",
      "\u001b[1m1/1\u001b[0m \u001b[32m━━━━━━━━━━━━━━━━━━━━\u001b[0m\u001b[37m\u001b[0m \u001b[1m0s\u001b[0m 102ms/step - AUC: 0.7778 - accuracy: 0.5000 - loss: 0.6859 - val_AUC: 0.0000e+00 - val_accuracy: 0.5000 - val_loss: 0.7202\n",
      "Epoch 18/100\n",
      "\u001b[1m1/1\u001b[0m \u001b[32m━━━━━━━━━━━━━━━━━━━━\u001b[0m\u001b[37m\u001b[0m \u001b[1m0s\u001b[0m 104ms/step - AUC: 0.1111 - accuracy: 0.1667 - loss: 0.7401 - val_AUC: 0.0000e+00 - val_accuracy: 0.5000 - val_loss: 0.7148\n",
      "Epoch 19/100\n",
      "\u001b[1m1/1\u001b[0m \u001b[32m━━━━━━━━━━━━━━━━━━━━\u001b[0m\u001b[37m\u001b[0m \u001b[1m0s\u001b[0m 103ms/step - AUC: 0.3889 - accuracy: 0.5000 - loss: 0.6974 - val_AUC: 0.0000e+00 - val_accuracy: 0.5000 - val_loss: 0.7099\n",
      "Epoch 20/100\n",
      "\u001b[1m1/1\u001b[0m \u001b[32m━━━━━━━━━━━━━━━━━━━━\u001b[0m\u001b[37m\u001b[0m \u001b[1m0s\u001b[0m 109ms/step - AUC: 0.3333 - accuracy: 0.3333 - loss: 0.6954 - val_AUC: 0.0000e+00 - val_accuracy: 0.5000 - val_loss: 0.7053\n",
      "Epoch 21/100\n",
      "\u001b[1m1/1\u001b[0m \u001b[32m━━━━━━━━━━━━━━━━━━━━\u001b[0m\u001b[37m\u001b[0m \u001b[1m0s\u001b[0m 104ms/step - AUC: 0.5000 - accuracy: 0.6667 - loss: 0.7045 - val_AUC: 0.0000e+00 - val_accuracy: 0.5000 - val_loss: 0.7007\n",
      "Epoch 22/100\n",
      "\u001b[1m1/1\u001b[0m \u001b[32m━━━━━━━━━━━━━━━━━━━━\u001b[0m\u001b[37m\u001b[0m \u001b[1m0s\u001b[0m 103ms/step - AUC: 0.5556 - accuracy: 0.6667 - loss: 0.6608 - val_AUC: 0.5000 - val_accuracy: 0.5000 - val_loss: 0.6962\n",
      "Epoch 23/100\n",
      "\u001b[1m1/1\u001b[0m \u001b[32m━━━━━━━━━━━━━━━━━━━━\u001b[0m\u001b[37m\u001b[0m \u001b[1m0s\u001b[0m 164ms/step - AUC: 0.7222 - accuracy: 0.5000 - loss: 0.6845 - val_AUC: 1.0000 - val_accuracy: 0.5000 - val_loss: 0.6919\n",
      "Epoch 24/100\n",
      "\u001b[1m1/1\u001b[0m \u001b[32m━━━━━━━━━━━━━━━━━━━━\u001b[0m\u001b[37m\u001b[0m \u001b[1m0s\u001b[0m 100ms/step - AUC: 0.4444 - accuracy: 0.5000 - loss: 0.7107 - val_AUC: 1.0000 - val_accuracy: 0.5000 - val_loss: 0.6876\n",
      "Epoch 25/100\n",
      "\u001b[1m1/1\u001b[0m \u001b[32m━━━━━━━━━━━━━━━━━━━━\u001b[0m\u001b[37m\u001b[0m \u001b[1m0s\u001b[0m 104ms/step - AUC: 0.4444 - accuracy: 0.6667 - loss: 0.6839 - val_AUC: 1.0000 - val_accuracy: 0.5000 - val_loss: 0.6833\n",
      "Epoch 26/100\n",
      "\u001b[1m1/1\u001b[0m \u001b[32m━━━━━━━━━━━━━━━━━━━━\u001b[0m\u001b[37m\u001b[0m \u001b[1m0s\u001b[0m 100ms/step - AUC: 0.7778 - accuracy: 0.8333 - loss: 0.6530 - val_AUC: 1.0000 - val_accuracy: 0.5000 - val_loss: 0.6792\n",
      "Epoch 27/100\n",
      "\u001b[1m1/1\u001b[0m \u001b[32m━━━━━━━━━━━━━━━━━━━━\u001b[0m\u001b[37m\u001b[0m \u001b[1m0s\u001b[0m 103ms/step - AUC: 0.8889 - accuracy: 0.8333 - loss: 0.5834 - val_AUC: 1.0000 - val_accuracy: 0.5000 - val_loss: 0.6750\n",
      "Epoch 28/100\n",
      "\u001b[1m1/1\u001b[0m \u001b[32m━━━━━━━━━━━━━━━━━━━━\u001b[0m\u001b[37m\u001b[0m \u001b[1m0s\u001b[0m 100ms/step - AUC: 0.8889 - accuracy: 0.8333 - loss: 0.6391 - val_AUC: 1.0000 - val_accuracy: 0.5000 - val_loss: 0.6706\n",
      "Epoch 29/100\n",
      "\u001b[1m1/1\u001b[0m \u001b[32m━━━━━━━━━━━━━━━━━━━━\u001b[0m\u001b[37m\u001b[0m \u001b[1m0s\u001b[0m 99ms/step - AUC: 0.6667 - accuracy: 0.6667 - loss: 0.6518 - val_AUC: 1.0000 - val_accuracy: 0.5000 - val_loss: 0.6663\n",
      "Epoch 30/100\n",
      "\u001b[1m1/1\u001b[0m \u001b[32m━━━━━━━━━━━━━━━━━━━━\u001b[0m\u001b[37m\u001b[0m \u001b[1m0s\u001b[0m 102ms/step - AUC: 1.0000 - accuracy: 0.8333 - loss: 0.6206 - val_AUC: 1.0000 - val_accuracy: 0.5000 - val_loss: 0.6621\n",
      "Epoch 31/100\n",
      "\u001b[1m1/1\u001b[0m \u001b[32m━━━━━━━━━━━━━━━━━━━━\u001b[0m\u001b[37m\u001b[0m \u001b[1m0s\u001b[0m 100ms/step - AUC: 0.7778 - accuracy: 0.8333 - loss: 0.6181 - val_AUC: 1.0000 - val_accuracy: 0.5000 - val_loss: 0.6578\n",
      "Epoch 32/100\n",
      "\u001b[1m1/1\u001b[0m \u001b[32m━━━━━━━━━━━━━━━━━━━━\u001b[0m\u001b[37m\u001b[0m \u001b[1m0s\u001b[0m 101ms/step - AUC: 0.6667 - accuracy: 0.6667 - loss: 0.6615 - val_AUC: 1.0000 - val_accuracy: 0.5000 - val_loss: 0.6536\n",
      "Epoch 33/100\n",
      "\u001b[1m1/1\u001b[0m \u001b[32m━━━━━━━━━━━━━━━━━━━━\u001b[0m\u001b[37m\u001b[0m \u001b[1m0s\u001b[0m 104ms/step - AUC: 1.0000 - accuracy: 1.0000 - loss: 0.6268 - val_AUC: 1.0000 - val_accuracy: 0.5000 - val_loss: 0.6494\n",
      "Epoch 34/100\n",
      "\u001b[1m1/1\u001b[0m \u001b[32m━━━━━━━━━━━━━━━━━━━━\u001b[0m\u001b[37m\u001b[0m \u001b[1m0s\u001b[0m 101ms/step - AUC: 1.0000 - accuracy: 0.8333 - loss: 0.5827 - val_AUC: 1.0000 - val_accuracy: 0.5000 - val_loss: 0.6451\n",
      "Epoch 35/100\n",
      "\u001b[1m1/1\u001b[0m \u001b[32m━━━━━━━━━━━━━━━━━━━━\u001b[0m\u001b[37m\u001b[0m \u001b[1m0s\u001b[0m 104ms/step - AUC: 1.0000 - accuracy: 1.0000 - loss: 0.6237 - val_AUC: 1.0000 - val_accuracy: 0.5000 - val_loss: 0.6408\n",
      "Epoch 36/100\n",
      "\u001b[1m1/1\u001b[0m \u001b[32m━━━━━━━━━━━━━━━━━━━━\u001b[0m\u001b[37m\u001b[0m \u001b[1m0s\u001b[0m 104ms/step - AUC: 1.0000 - accuracy: 0.8333 - loss: 0.5814 - val_AUC: 1.0000 - val_accuracy: 0.5000 - val_loss: 0.6367\n",
      "Epoch 37/100\n",
      "\u001b[1m1/1\u001b[0m \u001b[32m━━━━━━━━━━━━━━━━━━━━\u001b[0m\u001b[37m\u001b[0m \u001b[1m0s\u001b[0m 153ms/step - AUC: 1.0000 - accuracy: 0.8333 - loss: 0.5884 - val_AUC: 1.0000 - val_accuracy: 0.5000 - val_loss: 0.6324\n",
      "Epoch 38/100\n",
      "\u001b[1m1/1\u001b[0m \u001b[32m━━━━━━━━━━━━━━━━━━━━\u001b[0m\u001b[37m\u001b[0m \u001b[1m0s\u001b[0m 103ms/step - AUC: 1.0000 - accuracy: 1.0000 - loss: 0.5681 - val_AUC: 1.0000 - val_accuracy: 0.5000 - val_loss: 0.6283\n",
      "Epoch 39/100\n",
      "\u001b[1m1/1\u001b[0m \u001b[32m━━━━━━━━━━━━━━━━━━━━\u001b[0m\u001b[37m\u001b[0m \u001b[1m0s\u001b[0m 112ms/step - AUC: 1.0000 - accuracy: 1.0000 - loss: 0.5852 - val_AUC: 1.0000 - val_accuracy: 0.5000 - val_loss: 0.6241\n",
      "Epoch 40/100\n",
      "\u001b[1m1/1\u001b[0m \u001b[32m━━━━━━━━━━━━━━━━━━━━\u001b[0m\u001b[37m\u001b[0m \u001b[1m0s\u001b[0m 108ms/step - AUC: 1.0000 - accuracy: 1.0000 - loss: 0.5825 - val_AUC: 1.0000 - val_accuracy: 0.5000 - val_loss: 0.6198\n",
      "Epoch 41/100\n",
      "\u001b[1m1/1\u001b[0m \u001b[32m━━━━━━━━━━━━━━━━━━━━\u001b[0m\u001b[37m\u001b[0m \u001b[1m0s\u001b[0m 140ms/step - AUC: 1.0000 - accuracy: 0.8333 - loss: 0.5768 - val_AUC: 1.0000 - val_accuracy: 0.5000 - val_loss: 0.6155\n",
      "Epoch 42/100\n",
      "\u001b[1m1/1\u001b[0m \u001b[32m━━━━━━━━━━━━━━━━━━━━\u001b[0m\u001b[37m\u001b[0m \u001b[1m0s\u001b[0m 132ms/step - AUC: 1.0000 - accuracy: 0.8333 - loss: 0.5500 - val_AUC: 1.0000 - val_accuracy: 1.0000 - val_loss: 0.6112\n",
      "Epoch 43/100\n",
      "\u001b[1m1/1\u001b[0m \u001b[32m━━━━━━━━━━━━━━━━━━━━\u001b[0m\u001b[37m\u001b[0m \u001b[1m0s\u001b[0m 120ms/step - AUC: 0.7778 - accuracy: 0.6667 - loss: 0.6212 - val_AUC: 1.0000 - val_accuracy: 1.0000 - val_loss: 0.6070\n",
      "Epoch 44/100\n",
      "\u001b[1m1/1\u001b[0m \u001b[32m━━━━━━━━━━━━━━━━━━━━\u001b[0m\u001b[37m\u001b[0m \u001b[1m0s\u001b[0m 116ms/step - AUC: 1.0000 - accuracy: 1.0000 - loss: 0.6041 - val_AUC: 1.0000 - val_accuracy: 1.0000 - val_loss: 0.6017\n",
      "Epoch 45/100\n",
      "\u001b[1m1/1\u001b[0m \u001b[32m━━━━━━━━━━━━━━━━━━━━\u001b[0m\u001b[37m\u001b[0m \u001b[1m0s\u001b[0m 132ms/step - AUC: 1.0000 - accuracy: 0.8333 - loss: 0.5375 - val_AUC: 1.0000 - val_accuracy: 1.0000 - val_loss: 0.5956\n",
      "Epoch 46/100\n",
      "\u001b[1m1/1\u001b[0m \u001b[32m━━━━━━━━━━━━━━━━━━━━\u001b[0m\u001b[37m\u001b[0m \u001b[1m0s\u001b[0m 119ms/step - AUC: 1.0000 - accuracy: 1.0000 - loss: 0.5757 - val_AUC: 1.0000 - val_accuracy: 1.0000 - val_loss: 0.5896\n",
      "Epoch 47/100\n",
      "\u001b[1m1/1\u001b[0m \u001b[32m━━━━━━━━━━━━━━━━━━━━\u001b[0m\u001b[37m\u001b[0m \u001b[1m0s\u001b[0m 124ms/step - AUC: 1.0000 - accuracy: 1.0000 - loss: 0.5484 - val_AUC: 1.0000 - val_accuracy: 1.0000 - val_loss: 0.5836\n",
      "Epoch 48/100\n",
      "\u001b[1m1/1\u001b[0m \u001b[32m━━━━━━━━━━━━━━━━━━━━\u001b[0m\u001b[37m\u001b[0m \u001b[1m0s\u001b[0m 122ms/step - AUC: 1.0000 - accuracy: 1.0000 - loss: 0.5157 - val_AUC: 1.0000 - val_accuracy: 1.0000 - val_loss: 0.5773\n",
      "Epoch 49/100\n",
      "\u001b[1m1/1\u001b[0m \u001b[32m━━━━━━━━━━━━━━━━━━━━\u001b[0m\u001b[37m\u001b[0m \u001b[1m0s\u001b[0m 154ms/step - AUC: 1.0000 - accuracy: 0.8333 - loss: 0.5922 - val_AUC: 1.0000 - val_accuracy: 1.0000 - val_loss: 0.5706\n",
      "Epoch 50/100\n",
      "\u001b[1m1/1\u001b[0m \u001b[32m━━━━━━━━━━━━━━━━━━━━\u001b[0m\u001b[37m\u001b[0m \u001b[1m0s\u001b[0m 109ms/step - AUC: 1.0000 - accuracy: 0.8333 - loss: 0.5057 - val_AUC: 1.0000 - val_accuracy: 1.0000 - val_loss: 0.5638\n",
      "Epoch 51/100\n",
      "\u001b[1m1/1\u001b[0m \u001b[32m━━━━━━━━━━━━━━━━━━━━\u001b[0m\u001b[37m\u001b[0m \u001b[1m0s\u001b[0m 110ms/step - AUC: 1.0000 - accuracy: 1.0000 - loss: 0.5019 - val_AUC: 1.0000 - val_accuracy: 1.0000 - val_loss: 0.5567\n",
      "Epoch 52/100\n",
      "\u001b[1m1/1\u001b[0m \u001b[32m━━━━━━━━━━━━━━━━━━━━\u001b[0m\u001b[37m\u001b[0m \u001b[1m0s\u001b[0m 145ms/step - AUC: 1.0000 - accuracy: 1.0000 - loss: 0.5147 - val_AUC: 1.0000 - val_accuracy: 1.0000 - val_loss: 0.5495\n",
      "Epoch 53/100\n",
      "\u001b[1m1/1\u001b[0m \u001b[32m━━━━━━━━━━━━━━━━━━━━\u001b[0m\u001b[37m\u001b[0m \u001b[1m0s\u001b[0m 113ms/step - AUC: 1.0000 - accuracy: 1.0000 - loss: 0.5224 - val_AUC: 1.0000 - val_accuracy: 1.0000 - val_loss: 0.5425\n",
      "Epoch 54/100\n",
      "\u001b[1m1/1\u001b[0m \u001b[32m━━━━━━━━━━━━━━━━━━━━\u001b[0m\u001b[37m\u001b[0m \u001b[1m0s\u001b[0m 126ms/step - AUC: 1.0000 - accuracy: 1.0000 - loss: 0.4904 - val_AUC: 1.0000 - val_accuracy: 1.0000 - val_loss: 0.5356\n",
      "Epoch 55/100\n",
      "\u001b[1m1/1\u001b[0m \u001b[32m━━━━━━━━━━━━━━━━━━━━\u001b[0m\u001b[37m\u001b[0m \u001b[1m0s\u001b[0m 113ms/step - AUC: 1.0000 - accuracy: 0.8333 - loss: 0.4742 - val_AUC: 1.0000 - val_accuracy: 1.0000 - val_loss: 0.5289\n",
      "Epoch 56/100\n",
      "\u001b[1m1/1\u001b[0m \u001b[32m━━━━━━━━━━━━━━━━━━━━\u001b[0m\u001b[37m\u001b[0m \u001b[1m0s\u001b[0m 101ms/step - AUC: 1.0000 - accuracy: 1.0000 - loss: 0.4690 - val_AUC: 1.0000 - val_accuracy: 1.0000 - val_loss: 0.5222\n",
      "Epoch 57/100\n",
      "\u001b[1m1/1\u001b[0m \u001b[32m━━━━━━━━━━━━━━━━━━━━\u001b[0m\u001b[37m\u001b[0m \u001b[1m0s\u001b[0m 111ms/step - AUC: 1.0000 - accuracy: 1.0000 - loss: 0.4493 - val_AUC: 1.0000 - val_accuracy: 1.0000 - val_loss: 0.5155\n",
      "Epoch 58/100\n",
      "\u001b[1m1/1\u001b[0m \u001b[32m━━━━━━━━━━━━━━━━━━━━\u001b[0m\u001b[37m\u001b[0m \u001b[1m0s\u001b[0m 110ms/step - AUC: 1.0000 - accuracy: 1.0000 - loss: 0.4652 - val_AUC: 1.0000 - val_accuracy: 1.0000 - val_loss: 0.5091\n",
      "Epoch 59/100\n",
      "\u001b[1m1/1\u001b[0m \u001b[32m━━━━━━━━━━━━━━━━━━━━\u001b[0m\u001b[37m\u001b[0m \u001b[1m0s\u001b[0m 110ms/step - AUC: 1.0000 - accuracy: 1.0000 - loss: 0.4697 - val_AUC: 1.0000 - val_accuracy: 1.0000 - val_loss: 0.5026\n",
      "Epoch 60/100\n",
      "\u001b[1m1/1\u001b[0m \u001b[32m━━━━━━━━━━━━━━━━━━━━\u001b[0m\u001b[37m\u001b[0m \u001b[1m0s\u001b[0m 106ms/step - AUC: 1.0000 - accuracy: 1.0000 - loss: 0.4558 - val_AUC: 1.0000 - val_accuracy: 1.0000 - val_loss: 0.4963\n",
      "Epoch 61/100\n",
      "\u001b[1m1/1\u001b[0m \u001b[32m━━━━━━━━━━━━━━━━━━━━\u001b[0m\u001b[37m\u001b[0m \u001b[1m0s\u001b[0m 109ms/step - AUC: 1.0000 - accuracy: 1.0000 - loss: 0.4339 - val_AUC: 1.0000 - val_accuracy: 1.0000 - val_loss: 0.4900\n",
      "Epoch 62/100\n",
      "\u001b[1m1/1\u001b[0m \u001b[32m━━━━━━━━━━━━━━━━━━━━\u001b[0m\u001b[37m\u001b[0m \u001b[1m0s\u001b[0m 133ms/step - AUC: 1.0000 - accuracy: 1.0000 - loss: 0.4667 - val_AUC: 1.0000 - val_accuracy: 1.0000 - val_loss: 0.4837\n",
      "Epoch 63/100\n",
      "\u001b[1m1/1\u001b[0m \u001b[32m━━━━━━━━━━━━━━━━━━━━\u001b[0m\u001b[37m\u001b[0m \u001b[1m0s\u001b[0m 112ms/step - AUC: 1.0000 - accuracy: 1.0000 - loss: 0.4250 - val_AUC: 1.0000 - val_accuracy: 1.0000 - val_loss: 0.4774\n",
      "Epoch 64/100\n",
      "\u001b[1m1/1\u001b[0m \u001b[32m━━━━━━━━━━━━━━━━━━━━\u001b[0m\u001b[37m\u001b[0m \u001b[1m0s\u001b[0m 105ms/step - AUC: 1.0000 - accuracy: 1.0000 - loss: 0.4606 - val_AUC: 1.0000 - val_accuracy: 1.0000 - val_loss: 0.4711\n",
      "Epoch 65/100\n",
      "\u001b[1m1/1\u001b[0m \u001b[32m━━━━━━━━━━━━━━━━━━━━\u001b[0m\u001b[37m\u001b[0m \u001b[1m0s\u001b[0m 102ms/step - AUC: 1.0000 - accuracy: 0.8333 - loss: 0.4236 - val_AUC: 1.0000 - val_accuracy: 1.0000 - val_loss: 0.4649\n",
      "Epoch 66/100\n",
      "\u001b[1m1/1\u001b[0m \u001b[32m━━━━━━━━━━━━━━━━━━━━\u001b[0m\u001b[37m\u001b[0m \u001b[1m0s\u001b[0m 104ms/step - AUC: 1.0000 - accuracy: 1.0000 - loss: 0.4927 - val_AUC: 1.0000 - val_accuracy: 1.0000 - val_loss: 0.4587\n",
      "Epoch 67/100\n",
      "\u001b[1m1/1\u001b[0m \u001b[32m━━━━━━━━━━━━━━━━━━━━\u001b[0m\u001b[37m\u001b[0m \u001b[1m0s\u001b[0m 106ms/step - AUC: 1.0000 - accuracy: 1.0000 - loss: 0.4048 - val_AUC: 1.0000 - val_accuracy: 1.0000 - val_loss: 0.4525\n",
      "Epoch 68/100\n",
      "\u001b[1m1/1\u001b[0m \u001b[32m━━━━━━━━━━━━━━━━━━━━\u001b[0m\u001b[37m\u001b[0m \u001b[1m0s\u001b[0m 106ms/step - AUC: 1.0000 - accuracy: 1.0000 - loss: 0.4188 - val_AUC: 1.0000 - val_accuracy: 1.0000 - val_loss: 0.4463\n",
      "Epoch 69/100\n",
      "\u001b[1m1/1\u001b[0m \u001b[32m━━━━━━━━━━━━━━━━━━━━\u001b[0m\u001b[37m\u001b[0m \u001b[1m0s\u001b[0m 99ms/step - AUC: 1.0000 - accuracy: 1.0000 - loss: 0.4828 - val_AUC: 1.0000 - val_accuracy: 1.0000 - val_loss: 0.4401\n",
      "Epoch 70/100\n",
      "\u001b[1m1/1\u001b[0m \u001b[32m━━━━━━━━━━━━━━━━━━━━\u001b[0m\u001b[37m\u001b[0m \u001b[1m0s\u001b[0m 121ms/step - AUC: 1.0000 - accuracy: 1.0000 - loss: 0.4227 - val_AUC: 1.0000 - val_accuracy: 1.0000 - val_loss: 0.4340\n",
      "Epoch 71/100\n",
      "\u001b[1m1/1\u001b[0m \u001b[32m━━━━━━━━━━━━━━━━━━━━\u001b[0m\u001b[37m\u001b[0m \u001b[1m0s\u001b[0m 112ms/step - AUC: 1.0000 - accuracy: 1.0000 - loss: 0.4097 - val_AUC: 1.0000 - val_accuracy: 1.0000 - val_loss: 0.4279\n",
      "Epoch 72/100\n",
      "\u001b[1m1/1\u001b[0m \u001b[32m━━━━━━━━━━━━━━━━━━━━\u001b[0m\u001b[37m\u001b[0m \u001b[1m0s\u001b[0m 104ms/step - AUC: 1.0000 - accuracy: 1.0000 - loss: 0.3829 - val_AUC: 1.0000 - val_accuracy: 1.0000 - val_loss: 0.4218\n",
      "Epoch 73/100\n",
      "\u001b[1m1/1\u001b[0m \u001b[32m━━━━━━━━━━━━━━━━━━━━\u001b[0m\u001b[37m\u001b[0m \u001b[1m0s\u001b[0m 101ms/step - AUC: 1.0000 - accuracy: 1.0000 - loss: 0.3690 - val_AUC: 1.0000 - val_accuracy: 1.0000 - val_loss: 0.4150\n",
      "Epoch 74/100\n",
      "\u001b[1m1/1\u001b[0m \u001b[32m━━━━━━━━━━━━━━━━━━━━\u001b[0m\u001b[37m\u001b[0m \u001b[1m0s\u001b[0m 98ms/step - AUC: 1.0000 - accuracy: 1.0000 - loss: 0.4047 - val_AUC: 1.0000 - val_accuracy: 1.0000 - val_loss: 0.4082\n",
      "Epoch 75/100\n",
      "\u001b[1m1/1\u001b[0m \u001b[32m━━━━━━━━━━━━━━━━━━━━\u001b[0m\u001b[37m\u001b[0m \u001b[1m0s\u001b[0m 109ms/step - AUC: 1.0000 - accuracy: 1.0000 - loss: 0.4112 - val_AUC: 1.0000 - val_accuracy: 1.0000 - val_loss: 0.4016\n",
      "Epoch 76/100\n",
      "\u001b[1m1/1\u001b[0m \u001b[32m━━━━━━━━━━━━━━━━━━━━\u001b[0m\u001b[37m\u001b[0m \u001b[1m0s\u001b[0m 103ms/step - AUC: 1.0000 - accuracy: 1.0000 - loss: 0.3967 - val_AUC: 1.0000 - val_accuracy: 1.0000 - val_loss: 0.3951\n",
      "Epoch 77/100\n",
      "\u001b[1m1/1\u001b[0m \u001b[32m━━━━━━━━━━━━━━━━━━━━\u001b[0m\u001b[37m\u001b[0m \u001b[1m0s\u001b[0m 99ms/step - AUC: 1.0000 - accuracy: 0.8333 - loss: 0.3923 - val_AUC: 1.0000 - val_accuracy: 1.0000 - val_loss: 0.3886\n",
      "Epoch 78/100\n",
      "\u001b[1m1/1\u001b[0m \u001b[32m━━━━━━━━━━━━━━━━━━━━\u001b[0m\u001b[37m\u001b[0m \u001b[1m0s\u001b[0m 102ms/step - AUC: 1.0000 - accuracy: 1.0000 - loss: 0.3627 - val_AUC: 1.0000 - val_accuracy: 1.0000 - val_loss: 0.3821\n",
      "Epoch 79/100\n",
      "\u001b[1m1/1\u001b[0m \u001b[32m━━━━━━━━━━━━━━━━━━━━\u001b[0m\u001b[37m\u001b[0m \u001b[1m0s\u001b[0m 92ms/step - AUC: 1.0000 - accuracy: 1.0000 - loss: 0.3271 - val_AUC: 1.0000 - val_accuracy: 1.0000 - val_loss: 0.3758\n",
      "Epoch 80/100\n",
      "\u001b[1m1/1\u001b[0m \u001b[32m━━━━━━━━━━━━━━━━━━━━\u001b[0m\u001b[37m\u001b[0m \u001b[1m0s\u001b[0m 100ms/step - AUC: 1.0000 - accuracy: 1.0000 - loss: 0.3841 - val_AUC: 1.0000 - val_accuracy: 1.0000 - val_loss: 0.3693\n",
      "Epoch 81/100\n",
      "\u001b[1m1/1\u001b[0m \u001b[32m━━━━━━━━━━━━━━━━━━━━\u001b[0m\u001b[37m\u001b[0m \u001b[1m0s\u001b[0m 105ms/step - AUC: 1.0000 - accuracy: 1.0000 - loss: 0.3303 - val_AUC: 1.0000 - val_accuracy: 1.0000 - val_loss: 0.3629\n",
      "Epoch 82/100\n",
      "\u001b[1m1/1\u001b[0m \u001b[32m━━━━━━━━━━━━━━━━━━━━\u001b[0m\u001b[37m\u001b[0m \u001b[1m0s\u001b[0m 98ms/step - AUC: 1.0000 - accuracy: 0.8333 - loss: 0.3722 - val_AUC: 1.0000 - val_accuracy: 1.0000 - val_loss: 0.3568\n",
      "Epoch 83/100\n",
      "\u001b[1m1/1\u001b[0m \u001b[32m━━━━━━━━━━━━━━━━━━━━\u001b[0m\u001b[37m\u001b[0m \u001b[1m0s\u001b[0m 107ms/step - AUC: 1.0000 - accuracy: 1.0000 - loss: 0.3167 - val_AUC: 1.0000 - val_accuracy: 1.0000 - val_loss: 0.3503\n",
      "Epoch 84/100\n",
      "\u001b[1m1/1\u001b[0m \u001b[32m━━━━━━━━━━━━━━━━━━━━\u001b[0m\u001b[37m\u001b[0m \u001b[1m0s\u001b[0m 145ms/step - AUC: 1.0000 - accuracy: 1.0000 - loss: 0.3284 - val_AUC: 1.0000 - val_accuracy: 1.0000 - val_loss: 0.3437\n",
      "Epoch 85/100\n",
      "\u001b[1m1/1\u001b[0m \u001b[32m━━━━━━━━━━━━━━━━━━━━\u001b[0m\u001b[37m\u001b[0m \u001b[1m0s\u001b[0m 118ms/step - AUC: 1.0000 - accuracy: 1.0000 - loss: 0.3128 - val_AUC: 1.0000 - val_accuracy: 1.0000 - val_loss: 0.3370\n",
      "Epoch 86/100\n",
      "\u001b[1m1/1\u001b[0m \u001b[32m━━━━━━━━━━━━━━━━━━━━\u001b[0m\u001b[37m\u001b[0m \u001b[1m0s\u001b[0m 106ms/step - AUC: 1.0000 - accuracy: 1.0000 - loss: 0.2491 - val_AUC: 1.0000 - val_accuracy: 1.0000 - val_loss: 0.3305\n",
      "Epoch 87/100\n",
      "\u001b[1m1/1\u001b[0m \u001b[32m━━━━━━━━━━━━━━━━━━━━\u001b[0m\u001b[37m\u001b[0m \u001b[1m0s\u001b[0m 110ms/step - AUC: 1.0000 - accuracy: 1.0000 - loss: 0.4318 - val_AUC: 1.0000 - val_accuracy: 1.0000 - val_loss: 0.3240\n",
      "Epoch 88/100\n",
      "\u001b[1m1/1\u001b[0m \u001b[32m━━━━━━━━━━━━━━━━━━━━\u001b[0m\u001b[37m\u001b[0m \u001b[1m0s\u001b[0m 123ms/step - AUC: 1.0000 - accuracy: 1.0000 - loss: 0.3129 - val_AUC: 1.0000 - val_accuracy: 1.0000 - val_loss: 0.3177\n",
      "Epoch 89/100\n",
      "\u001b[1m1/1\u001b[0m \u001b[32m━━━━━━━━━━━━━━━━━━━━\u001b[0m\u001b[37m\u001b[0m \u001b[1m0s\u001b[0m 106ms/step - AUC: 1.0000 - accuracy: 1.0000 - loss: 0.2555 - val_AUC: 1.0000 - val_accuracy: 1.0000 - val_loss: 0.3114\n",
      "Epoch 90/100\n",
      "\u001b[1m1/1\u001b[0m \u001b[32m━━━━━━━━━━━━━━━━━━━━\u001b[0m\u001b[37m\u001b[0m \u001b[1m0s\u001b[0m 116ms/step - AUC: 1.0000 - accuracy: 1.0000 - loss: 0.2811 - val_AUC: 1.0000 - val_accuracy: 1.0000 - val_loss: 0.3051\n",
      "Epoch 91/100\n",
      "\u001b[1m1/1\u001b[0m \u001b[32m━━━━━━━━━━━━━━━━━━━━\u001b[0m\u001b[37m\u001b[0m \u001b[1m0s\u001b[0m 117ms/step - AUC: 1.0000 - accuracy: 1.0000 - loss: 0.2587 - val_AUC: 1.0000 - val_accuracy: 1.0000 - val_loss: 0.2990\n",
      "Epoch 92/100\n",
      "\u001b[1m1/1\u001b[0m \u001b[32m━━━━━━━━━━━━━━━━━━━━\u001b[0m\u001b[37m\u001b[0m \u001b[1m0s\u001b[0m 108ms/step - AUC: 1.0000 - accuracy: 1.0000 - loss: 0.3049 - val_AUC: 1.0000 - val_accuracy: 1.0000 - val_loss: 0.2930\n",
      "Epoch 93/100\n",
      "\u001b[1m1/1\u001b[0m \u001b[32m━━━━━━━━━━━━━━━━━━━━\u001b[0m\u001b[37m\u001b[0m \u001b[1m0s\u001b[0m 115ms/step - AUC: 1.0000 - accuracy: 1.0000 - loss: 0.3037 - val_AUC: 1.0000 - val_accuracy: 1.0000 - val_loss: 0.2872\n",
      "Epoch 94/100\n",
      "\u001b[1m1/1\u001b[0m \u001b[32m━━━━━━━━━━━━━━━━━━━━\u001b[0m\u001b[37m\u001b[0m \u001b[1m0s\u001b[0m 104ms/step - AUC: 1.0000 - accuracy: 1.0000 - loss: 0.3733 - val_AUC: 1.0000 - val_accuracy: 1.0000 - val_loss: 0.2815\n",
      "Epoch 95/100\n",
      "\u001b[1m1/1\u001b[0m \u001b[32m━━━━━━━━━━━━━━━━━━━━\u001b[0m\u001b[37m\u001b[0m \u001b[1m0s\u001b[0m 103ms/step - AUC: 1.0000 - accuracy: 1.0000 - loss: 0.3176 - val_AUC: 1.0000 - val_accuracy: 1.0000 - val_loss: 0.2759\n",
      "Epoch 96/100\n",
      "\u001b[1m1/1\u001b[0m \u001b[32m━━━━━━━━━━━━━━━━━━━━\u001b[0m\u001b[37m\u001b[0m \u001b[1m0s\u001b[0m 107ms/step - AUC: 1.0000 - accuracy: 1.0000 - loss: 0.2623 - val_AUC: 1.0000 - val_accuracy: 1.0000 - val_loss: 0.2703\n",
      "Epoch 97/100\n",
      "\u001b[1m1/1\u001b[0m \u001b[32m━━━━━━━━━━━━━━━━━━━━\u001b[0m\u001b[37m\u001b[0m \u001b[1m0s\u001b[0m 110ms/step - AUC: 1.0000 - accuracy: 1.0000 - loss: 0.2872 - val_AUC: 1.0000 - val_accuracy: 1.0000 - val_loss: 0.2649\n",
      "Epoch 98/100\n",
      "\u001b[1m1/1\u001b[0m \u001b[32m━━━━━━━━━━━━━━━━━━━━\u001b[0m\u001b[37m\u001b[0m \u001b[1m0s\u001b[0m 111ms/step - AUC: 1.0000 - accuracy: 1.0000 - loss: 0.2523 - val_AUC: 1.0000 - val_accuracy: 1.0000 - val_loss: 0.2595\n",
      "Epoch 99/100\n",
      "\u001b[1m1/1\u001b[0m \u001b[32m━━━━━━━━━━━━━━━━━━━━\u001b[0m\u001b[37m\u001b[0m \u001b[1m0s\u001b[0m 112ms/step - AUC: 1.0000 - accuracy: 1.0000 - loss: 0.2886 - val_AUC: 1.0000 - val_accuracy: 1.0000 - val_loss: 0.2542\n",
      "Epoch 100/100\n",
      "\u001b[1m1/1\u001b[0m \u001b[32m━━━━━━━━━━━━━━━━━━━━\u001b[0m\u001b[37m\u001b[0m \u001b[1m0s\u001b[0m 107ms/step - AUC: 1.0000 - accuracy: 1.0000 - loss: 0.2369 - val_AUC: 1.0000 - val_accuracy: 1.0000 - val_loss: 0.2490\n"
     ]
    }
   ],
   "source": [
    "es = keras.callbacks.EarlyStopping(\n",
    "    monitor=\"val_loss\", patience=10, restore_best_weights=True\n",
    ")\n",
    "\n",
    "history = model.fit(\n",
    "    X_train, y_train,\n",
    "    validation_data=(X_val, y_val),\n",
    "    epochs=100, batch_size=32,\n",
    "    callbacks=[es], verbose=1\n",
    ")"
   ]
  },
  {
   "cell_type": "code",
   "execution_count": 9,
   "id": "a41c65b0",
   "metadata": {},
   "outputs": [
    {
     "name": "stdout",
     "output_type": "stream",
     "text": [
      "Test Acc: 1.0 AUC: 1.0\n",
      "\u001b[1m1/1\u001b[0m \u001b[32m━━━━━━━━━━━━━━━━━━━━\u001b[0m\u001b[37m\u001b[0m \u001b[1m0s\u001b[0m 67ms/step\n",
      "[[1 0]\n",
      " [0 1]]\n",
      "              precision    recall  f1-score   support\n",
      "\n",
      "           0      1.000     1.000     1.000         1\n",
      "           1      1.000     1.000     1.000         1\n",
      "\n",
      "    accuracy                          1.000         2\n",
      "   macro avg      1.000     1.000     1.000         2\n",
      "weighted avg      1.000     1.000     1.000         2\n",
      "\n"
     ]
    }
   ],
   "source": [
    "from sklearn.metrics import classification_report, confusion_matrix\n",
    "\n",
    "loss, acc, auc = model.evaluate(X_test, y_test, verbose=0)\n",
    "print(\"Test Acc:\", acc, \"AUC:\", auc)\n",
    "\n",
    "y_proba = model.predict(X_test).ravel()\n",
    "y_pred = (y_proba >= 0.5).astype(int)\n",
    "\n",
    "print(confusion_matrix(y_test, y_pred))\n",
    "print(classification_report(y_test, y_pred, digits=3))"
   ]
  },
  {
   "cell_type": "code",
   "execution_count": 10,
   "id": "69386a04",
   "metadata": {},
   "outputs": [
    {
     "data": {
      "image/png": "[encoded data removed]",
      "text/plain": [
       "<Figure size 640x480 with 1 Axes>"
      ]
     },
     "metadata": {},
     "output_type": "display_data"
    }
   ],
   "source": [
    "import matplotlib.pyplot as plt\n",
    "\n",
    "plt.plot(history.history[\"loss\"], label=\"Train Loss\")\n",
    "plt.plot(history.history[\"val_loss\"], label=\"Val Loss\")\n",
    "plt.xlabel(\"Epoch\"); plt.ylabel(\"Loss\"); plt.legend()\n",
    "plt.title(\"Learning Curve\")\n",
    "plt.tight_layout(); plt.savefig(\"learning_curve.png\", dpi=120)"
   ]
  },
  {
   "cell_type": "code",
   "execution_count": null,
   "id": "93f9964b",
   "metadata": {},
   "outputs": [],
   "source": []
  }
 ],
 "metadata": {
  "kernelspec": {
   "display_name": ".venv",
   "language": "python",
   "name": "python3"
  },
  "language_info": {
   "codemirror_mode": {
    "name": "ipython",
    "version": 3
   },
   "file_extension": ".py",
   "mimetype": "text/x-python",
   "name": "python",
   "nbconvert_exporter": "python",
   "pygments_lexer": "ipython3",
   "version": "3.10.11"
  }
 },
 "nbformat": 4,
 "nbformat_minor": 5
}
